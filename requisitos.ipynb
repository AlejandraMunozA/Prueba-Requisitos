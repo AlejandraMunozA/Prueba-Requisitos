{
 "cells": [
  {
   "cell_type": "markdown",
   "metadata": {},
   "source": [
    "# Titulo\n",
    "## titulo\n",
    "###### Titulo\n",
    "####### Tiyulo\n",
    "* lista\n",
    "* lista1\n",
    "\n",
    "1. iyem\n",
    "2. items\n",
    "\n",
    "---\n",
    "<center>\n",
    "\n",
    "|Titulo| tiltulo|\n",
    "|--|--|\n",
    "|vaci| vbrtkjbtrknrrkj|\n",
    "\n",
    "</center>\n",
    "\n",
    "Aqui estoy"
   ]
  },
  {
   "cell_type": "code",
   "execution_count": 1,
   "metadata": {},
   "outputs": [
    {
     "name": "stdout",
     "output_type": "stream",
     "text": [
      "hola mundo\n"
     ]
    }
   ],
   "source": [
    "print(\"hola mundo\")"
   ]
  }
 ],
 "metadata": {
  "kernelspec": {
   "display_name": "Python 3",
   "language": "python",
   "name": "python3"
  },
  "language_info": {
   "codemirror_mode": {
    "name": "ipython",
    "version": 3
   },
   "file_extension": ".py",
   "mimetype": "text/x-python",
   "name": "python",
   "nbconvert_exporter": "python",
   "pygments_lexer": "ipython3",
   "version": "3.11.8"
  }
 },
 "nbformat": 4,
 "nbformat_minor": 2
}
